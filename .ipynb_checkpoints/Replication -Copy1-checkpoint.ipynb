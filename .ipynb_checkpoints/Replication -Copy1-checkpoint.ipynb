{
 "cells": [
  {
   "cell_type": "code",
   "execution_count": 10,
   "id": "62b11294-79e0-4376-bc8c-d4cc7f5c5fd3",
   "metadata": {},
   "outputs": [],
   "source": [
    "import numpy as np\n",
    "import pandas as pd\n",
    "import os\n",
    "import inspect\n",
    "import networkx as nx\n",
    "import backboning_python3_networkx2_Coscia_AR as helpers # backboning https://www.michelecoscia.com/?page_id=287, altered by Alexandra\n",
    "from networkx.algorithms import bipartite\n",
    "import random\n",
    "import matplotlib.pyplot as plt\n",
    "import warnings # suppress python warnings \n",
    "warnings.filterwarnings(\"ignore\")"
   ]
  },
  {
   "cell_type": "markdown",
   "id": "33809b87-c432-45e1-a5fd-f3f13026b21b",
   "metadata": {},
   "source": [
    "# Clean the data"
   ]
  },
  {
   "cell_type": "code",
   "execution_count": 34,
   "id": "5f3bda91-6e35-4064-8873-37fec93e37a6",
   "metadata": {
    "editable": true,
    "slideshow": {
     "slide_type": ""
    },
    "tags": []
   },
   "outputs": [],
   "source": [
    "# imported functions (thank you Alexandra)\n",
    "def get_var_name(var, local_vars):\n",
    "    for var_name, value in local_vars.items():\n",
    "        if value is var:\n",
    "            return var_name\n",
    "\n",
    "def visualise_graph(edge_table, node_size, labels = False, label_threshold = 6): \n",
    "    # Example usage\n",
    "    edge_table_name = get_var_name(edge_table, locals())\n",
    "    \n",
    "    G = nx.from_pandas_edgelist(edge_table, \"node1\", \"node2\")\n",
    "    \n",
    "    # layout of graph\n",
    "    pos = nx.kamada_kawai_layout(G) # determine position\n",
    "    \n",
    "    nx.draw_networkx(G, \n",
    "                     with_labels = False, \n",
    "                     pos = pos,\n",
    "                     node_size=node_size,\n",
    "                     edge_color=\"lightgrey\")\n",
    "    \n",
    "    if labels:\n",
    "        # add labels to certain nodes\n",
    "        labels = {}\n",
    "        pos_select = {}\n",
    "        for node in G.nodes():\n",
    "            if G.degree()[node] >= label_threshold:\n",
    "                #set the node name as the key and the label as its value \n",
    "                labels[node] = node\n",
    "                pos_select[node] = pos[node]\n",
    "\n",
    "        pos_higher = {}\n",
    "        for k, v in pos_select.items():\n",
    "            if(v[1]>0):\n",
    "                pos_higher[k] = (v[0]-0.015, v[1]+0.015)\n",
    "            else:\n",
    "                pos_higher[k] = (v[0]-0.015, v[1]-0.015)\n",
    "    \n",
    "        nx.draw_networkx_labels(G,\n",
    "                                labels=labels, \n",
    "                                pos = pos_higher,\n",
    "                                font_size=12)\n",
    "\n",
    "    plt.savefig(f'output/plots/{edge_table_name}graph.png')\n",
    "    plt.show()"
   ]
  },
  {
   "cell_type": "code",
   "execution_count": 5,
   "id": "c2c87e29-3094-42e6-b6df-26ba66426675",
   "metadata": {},
   "outputs": [],
   "source": [
    "# Set the working directory\n",
    "current_directory = os.getcwd()\n",
    "directory = \"/Users/tombombo/Documents/Oxford SNAI\"\n",
    "os.chdir(directory)"
   ]
  },
  {
   "cell_type": "code",
   "execution_count": 6,
   "id": "f1662e9a-fd92-4c02-8a97-119b200e7a5e",
   "metadata": {},
   "outputs": [],
   "source": [
    "data = pd.read_csv(\"output/data.csv\")"
   ]
  },
  {
   "cell_type": "code",
   "execution_count": 7,
   "id": "212157ad-49f4-4980-bb51-5cf66c663848",
   "metadata": {},
   "outputs": [
    {
     "name": "stdout",
     "output_type": "stream",
     "text": [
      "Number of unique skills: 4844\n",
      "Number of unique projects: 47604\n"
     ]
    }
   ],
   "source": [
    "projects = list(set(data['project_ID']))\n",
    "skills_series = data['project_skills'].str.split(\" \")\n",
    "flattened_skills = [skill for sublist in skills_series for skill in sublist]\n",
    "skills = list(set(flattened_skills))\n",
    "print(f\"Number of unique skills: {len(skills)}\")\n",
    "print(f\"Number of unique projects: {len(projects)}\")"
   ]
  },
  {
   "cell_type": "markdown",
   "id": "67476404-2aff-42e1-941a-91d3707d948d",
   "metadata": {},
   "source": [
    "## Get the adjacency matrix, the edge table for the network in count and ratio based edge-weights\n"
   ]
  },
  {
   "cell_type": "code",
   "execution_count": 8,
   "id": "1423e0bc-97fa-4c19-a8c9-2106af99eede",
   "metadata": {},
   "outputs": [],
   "source": [
    "def build_edge_list(data):\n",
    "    \" I extract the edge list from the data\"\n",
    "    skill_project_map = {}\n",
    "    # Populate the dictionary\n",
    "    for index, row in data.iterrows():\n",
    "        project_id = row['project_ID']\n",
    "        project_skills = row['project_skills'].split()\n",
    "        for skill in project_skills:\n",
    "            if skill not in skill_project_map:\n",
    "                skill_project_map[skill] = set()\n",
    "            skill_project_map[skill].add(project_id)\n",
    "\n",
    "    # Convert the dictionary to edge list format\n",
    "    edge_list = [(skill, project_id) for skill, project_ids in skill_project_map.items() for project_id in project_ids]\n",
    "    return edge_list\n",
    "# Generate the edge list\n",
    "# get degrees\n",
    "\n",
    "edge_list = build_edge_list(data)\n",
    "with open('output/edge_list.txt', 'w') as f:\n",
    "    for edge in edge_list:\n",
    "        f.write(f\"{edge}\\n\")"
   ]
  },
  {
   "cell_type": "code",
   "execution_count": 26,
   "id": "42e349a5-df8e-431b-8905-eb8b7a6628d7",
   "metadata": {},
   "outputs": [],
   "source": [
    "# read edge list into graph\n",
    "B = nx.Graph()\n",
    "B.add_nodes_from(projects, bipartite=0)\n",
    "B.add_nodes_from(skills, bipartite=1)\n",
    "B.add_edges_from(edge_list)\n",
    "\n",
    "G_ratios = nx.bipartite.weighted_projected_graph(B, nodes=skills, ratio=True)\n",
    "G_count = nx.bipartite.weighted_projected_graph(B, nodes=skills, ratio=False)"
   ]
  },
  {
   "cell_type": "code",
   "execution_count": 27,
   "id": "b701ab9b-bd05-441a-baae-f795d64e2dfd",
   "metadata": {},
   "outputs": [],
   "source": [
    "skills_adj_matrix_ratio = nx.adjacency_matrix(G_ratios)\n",
    "skills_adj_matrix_count = nx.adjacency_matrix(G_count)\n",
    "\n",
    "# Convert to DataFrame\n",
    "skills_adj_matrix_ratio_table = pd.DataFrame(skills_adj_matrix_ratio.toarray(), index=G_ratios.nodes(), columns=G_ratios.nodes())\n",
    "skills_adj_matrix_count_table = pd.DataFrame(skills_adj_matrix_count.toarray(), index=G_count.nodes(), columns=G_count.nodes())\n",
    " \n",
    "# Save to CSV\n",
    "skills_adj_matrix_ratio_table.to_csv('output/skills_adj_matrix_ratio.csv')\n",
    "skills_adj_matrix_count_table.to_csv('output/skills_adj_matrix_count.csv')"
   ]
  },
  {
   "cell_type": "code",
   "execution_count": 28,
   "id": "793e8cb2-084f-4887-9aa5-a91d68f359f1",
   "metadata": {},
   "outputs": [
    {
     "data": {
      "text/html": [
       "<div>\n",
       "<style scoped>\n",
       "    .dataframe tbody tr th:only-of-type {\n",
       "        vertical-align: middle;\n",
       "    }\n",
       "\n",
       "    .dataframe tbody tr th {\n",
       "        vertical-align: top;\n",
       "    }\n",
       "\n",
       "    .dataframe thead th {\n",
       "        text-align: right;\n",
       "    }\n",
       "</style>\n",
       "<table border=\"1\" class=\"dataframe\">\n",
       "  <thead>\n",
       "    <tr style=\"text-align: right;\">\n",
       "      <th></th>\n",
       "      <th>Source</th>\n",
       "      <th>Target</th>\n",
       "      <th>weight</th>\n",
       "    </tr>\n",
       "  </thead>\n",
       "  <tbody>\n",
       "    <tr>\n",
       "      <th>0</th>\n",
       "      <td>single-sign-on</td>\n",
       "      <td>node.js</td>\n",
       "      <td>1</td>\n",
       "    </tr>\n",
       "    <tr>\n",
       "      <th>1</th>\n",
       "      <td>single-sign-on</td>\n",
       "      <td>cypress</td>\n",
       "      <td>1</td>\n",
       "    </tr>\n",
       "    <tr>\n",
       "      <th>2</th>\n",
       "      <td>single-sign-on</td>\n",
       "      <td>json</td>\n",
       "      <td>1</td>\n",
       "    </tr>\n",
       "    <tr>\n",
       "      <th>3</th>\n",
       "      <td>single-sign-on</td>\n",
       "      <td>scripting</td>\n",
       "      <td>1</td>\n",
       "    </tr>\n",
       "    <tr>\n",
       "      <th>4</th>\n",
       "      <td>single-sign-on</td>\n",
       "      <td>oauth</td>\n",
       "      <td>1</td>\n",
       "    </tr>\n",
       "  </tbody>\n",
       "</table>\n",
       "</div>"
      ],
      "text/plain": [
       "           Source     Target  weight\n",
       "0  single-sign-on    node.js       1\n",
       "1  single-sign-on    cypress       1\n",
       "2  single-sign-on       json       1\n",
       "3  single-sign-on  scripting       1\n",
       "4  single-sign-on      oauth       1"
      ]
     },
     "execution_count": 28,
     "metadata": {},
     "output_type": "execute_result"
    }
   ],
   "source": [
    "edge_table = pd.DataFrame(G_count.edges(data=True), columns=['Source', 'Target', 'Attributes'])\n",
    "edge_table = pd.concat([edge_table.drop(['Attributes'], axis=1), edge_table['Attributes'].apply(pd.Series)], axis=1)\n",
    "edge_table.to_csv('output/edge_table.csv')\n",
    "edge_table.head()"
   ]
  },
  {
   "cell_type": "markdown",
   "id": "630fb4b8-9c19-4c16-b3b7-83d098cc5684",
   "metadata": {},
   "source": [
    "# Backbone the network "
   ]
  },
  {
   "cell_type": "markdown",
   "id": "edde6eda-6076-4148-aa63-a809fe57fdeb",
   "metadata": {},
   "source": [
    "## Investigate the unfiltered network"
   ]
  },
  {
   "cell_type": "code",
   "execution_count": 21,
   "id": "dea31e75-a795-44d2-86d7-ef9b514e639a",
   "metadata": {},
   "outputs": [
    {
     "data": {
      "text/html": [
       "<div>\n",
       "<style scoped>\n",
       "    .dataframe tbody tr th:only-of-type {\n",
       "        vertical-align: middle;\n",
       "    }\n",
       "\n",
       "    .dataframe tbody tr th {\n",
       "        vertical-align: top;\n",
       "    }\n",
       "\n",
       "    .dataframe thead th {\n",
       "        text-align: right;\n",
       "    }\n",
       "</style>\n",
       "<table border=\"1\" class=\"dataframe\">\n",
       "  <thead>\n",
       "    <tr style=\"text-align: right;\">\n",
       "      <th></th>\n",
       "      <th>Unnamed: 0</th>\n",
       "      <th>Source</th>\n",
       "      <th>Target</th>\n",
       "      <th>weight</th>\n",
       "    </tr>\n",
       "  </thead>\n",
       "  <tbody>\n",
       "    <tr>\n",
       "      <th>0</th>\n",
       "      <td>0</td>\n",
       "      <td>single-sign-on</td>\n",
       "      <td>node.js</td>\n",
       "      <td>1</td>\n",
       "    </tr>\n",
       "    <tr>\n",
       "      <th>1</th>\n",
       "      <td>1</td>\n",
       "      <td>single-sign-on</td>\n",
       "      <td>cypress</td>\n",
       "      <td>1</td>\n",
       "    </tr>\n",
       "    <tr>\n",
       "      <th>2</th>\n",
       "      <td>2</td>\n",
       "      <td>single-sign-on</td>\n",
       "      <td>json</td>\n",
       "      <td>1</td>\n",
       "    </tr>\n",
       "    <tr>\n",
       "      <th>3</th>\n",
       "      <td>3</td>\n",
       "      <td>single-sign-on</td>\n",
       "      <td>scripting</td>\n",
       "      <td>1</td>\n",
       "    </tr>\n",
       "    <tr>\n",
       "      <th>4</th>\n",
       "      <td>4</td>\n",
       "      <td>single-sign-on</td>\n",
       "      <td>oauth</td>\n",
       "      <td>1</td>\n",
       "    </tr>\n",
       "  </tbody>\n",
       "</table>\n",
       "</div>"
      ],
      "text/plain": [
       "   Unnamed: 0          Source     Target  weight\n",
       "0           0  single-sign-on    node.js       1\n",
       "1           1  single-sign-on    cypress       1\n",
       "2           2  single-sign-on       json       1\n",
       "3           3  single-sign-on  scripting       1\n",
       "4           4  single-sign-on      oauth       1"
      ]
     },
     "execution_count": 21,
     "metadata": {},
     "output_type": "execute_result"
    }
   ],
   "source": [
    "edge_table = pd.read_csv('output/edge_table.csv')\n",
    "edge_table.head()"
   ]
  },
  {
   "cell_type": "code",
   "execution_count": 22,
   "id": "f9689156-d83e-4d83-8030-848f4117fa09",
   "metadata": {},
   "outputs": [
    {
     "name": "stdout",
     "output_type": "stream",
     "text": [
      "Unexpected exception formatting exception. Falling back to standard exception\n"
     ]
    },
    {
     "name": "stderr",
     "output_type": "stream",
     "text": [
      "Traceback (most recent call last):\n",
      "  File \"/opt/anaconda3/lib/python3.11/site-packages/IPython/core/interactiveshell.py\", line 3553, in run_code\n",
      "    exec(code_obj, self.user_global_ns, self.user_ns)\n",
      "  File \"/var/folders/ty/1m_1p5rj2wnf23b9yrv3vy040000gn/T/ipykernel_9863/895145657.py\", line 4, in <module>\n",
      "    visualise_graph(edge_table,\n",
      "  File \"/var/folders/ty/1m_1p5rj2wnf23b9yrv3vy040000gn/T/ipykernel_9863/392304647.py\", line 14, in visualise_graph\n",
      "    pos = nx.kamada_kawai_layout(G) # determine position\n",
      "          ^^^^^^^^^^^^^^^^^^^^^^^^^\n",
      "  File \"/opt/anaconda3/lib/python3.11/site-packages/networkx/drawing/layout.py\", line 690, in kamada_kawai_layout\n",
      "    dist = dict(nx.shortest_path_length(G, weight=weight))\n",
      "           ^^^^^^^^^^^^^^^^^^^^^^^^^^^^^^^^^^^^^^^^^^^^^^^\n",
      "  File \"/opt/anaconda3/lib/python3.11/site-packages/networkx/algorithms/shortest_paths/weighted.py\", line 1071, in all_pairs_dijkstra_path_length\n",
      "    yield (n, length(G, n, cutoff=cutoff, weight=weight))\n",
      "              ^^^^^^^^^^^^^^^^^^^^^^^^^^^^^^^^^^^^^^^^^^\n",
      "  File \"/opt/anaconda3/lib/python3.11/site-packages/networkx/algorithms/shortest_paths/weighted.py\", line 382, in single_source_dijkstra_path_length\n",
      "    return multi_source_dijkstra_path_length(G, {source}, cutoff=cutoff, weight=weight)\n",
      "           ^^^^^^^^^^^^^^^^^^^^^^^^^^^^^^^^^^^^^^^^^^^^^^^^^^^^^^^^^^^^^^^^^^^^^^^^^^^^\n",
      "  File \"/opt/anaconda3/lib/python3.11/site-packages/networkx/algorithms/shortest_paths/weighted.py\", line 637, in multi_source_dijkstra_path_length\n",
      "    return _dijkstra_multisource(G, sources, weight, cutoff=cutoff)\n",
      "           ^^^^^^^^^^^^^^^^^^^^^^^^^^^^^^^^^^^^^^^^^^^^^^^^^^^^^^^^\n",
      "  File \"/opt/anaconda3/lib/python3.11/site-packages/networkx/algorithms/shortest_paths/weighted.py\", line None, in _dijkstra_multisource\n",
      "KeyboardInterrupt\n",
      "\n",
      "During handling of the above exception, another exception occurred:\n",
      "\n",
      "Traceback (most recent call last):\n",
      "  File \"/opt/anaconda3/lib/python3.11/site-packages/IPython/core/interactiveshell.py\", line 2144, in showtraceback\n",
      "    stb = self.InteractiveTB.structured_traceback(\n",
      "          ^^^^^^^^^^^^^^^^^^^^^^^^^^^^^^^^^^^^^^^^\n",
      "  File \"/opt/anaconda3/lib/python3.11/site-packages/IPython/core/ultratb.py\", line 1435, in structured_traceback\n",
      "    return FormattedTB.structured_traceback(\n",
      "           ^^^^^^^^^^^^^^^^^^^^^^^^^^^^^^^^^\n",
      "  File \"/opt/anaconda3/lib/python3.11/site-packages/IPython/core/ultratb.py\", line 1326, in structured_traceback\n",
      "    return VerboseTB.structured_traceback(\n",
      "           ^^^^^^^^^^^^^^^^^^^^^^^^^^^^^^^\n",
      "  File \"/opt/anaconda3/lib/python3.11/site-packages/IPython/core/ultratb.py\", line 1173, in structured_traceback\n",
      "    formatted_exception = self.format_exception_as_a_whole(etype, evalue, etb, number_of_lines_of_context,\n",
      "                          ^^^^^^^^^^^^^^^^^^^^^^^^^^^^^^^^^^^^^^^^^^^^^^^^^^^^^^^^^^^^^^^^^^^^^^^^^^^^^^^^\n",
      "  File \"/opt/anaconda3/lib/python3.11/site-packages/IPython/core/ultratb.py\", line 1088, in format_exception_as_a_whole\n",
      "    frames.append(self.format_record(record))\n",
      "                  ^^^^^^^^^^^^^^^^^^^^^^^^^^\n",
      "  File \"/opt/anaconda3/lib/python3.11/site-packages/IPython/core/ultratb.py\", line 970, in format_record\n",
      "    frame_info.lines, Colors, self.has_colors, lvals\n",
      "    ^^^^^^^^^^^^^^^^\n",
      "  File \"/opt/anaconda3/lib/python3.11/site-packages/IPython/core/ultratb.py\", line 792, in lines\n",
      "    return self._sd.lines\n",
      "           ^^^^^^^^^^^^^^\n",
      "  File \"/opt/anaconda3/lib/python3.11/site-packages/stack_data/utils.py\", line 145, in cached_property_wrapper\n",
      "    value = obj.__dict__[self.func.__name__] = self.func(obj)\n",
      "                                               ^^^^^^^^^^^^^^\n",
      "  File \"/opt/anaconda3/lib/python3.11/site-packages/stack_data/core.py\", line 698, in lines\n",
      "    pieces = self.included_pieces\n",
      "             ^^^^^^^^^^^^^^^^^^^^\n",
      "  File \"/opt/anaconda3/lib/python3.11/site-packages/stack_data/utils.py\", line 145, in cached_property_wrapper\n",
      "    value = obj.__dict__[self.func.__name__] = self.func(obj)\n",
      "                                               ^^^^^^^^^^^^^^\n",
      "  File \"/opt/anaconda3/lib/python3.11/site-packages/stack_data/core.py\", line 649, in included_pieces\n",
      "    pos = scope_pieces.index(self.executing_piece)\n",
      "                             ^^^^^^^^^^^^^^^^^^^^\n",
      "  File \"/opt/anaconda3/lib/python3.11/site-packages/stack_data/utils.py\", line 145, in cached_property_wrapper\n",
      "    value = obj.__dict__[self.func.__name__] = self.func(obj)\n",
      "                                               ^^^^^^^^^^^^^^\n",
      "  File \"/opt/anaconda3/lib/python3.11/site-packages/stack_data/core.py\", line 628, in executing_piece\n",
      "    return only(\n",
      "           ^^^^^\n",
      "  File \"/opt/anaconda3/lib/python3.11/site-packages/executing/executing.py\", line 164, in only\n",
      "    raise NotOneValueFound('Expected one value, found 0')\n",
      "executing.executing.NotOneValueFound: Expected one value, found 0\n"
     ]
    }
   ],
   "source": [
    "edge_table.rename(columns = {'weight' : 'count' ,\n",
    "                                     'Source' : 'node1',\n",
    "                                     'Target' : 'node2'}, inplace = True)\n",
    "visualise_graph(edge_table, \n",
    "                node_size= 2, \n",
    "                labels = False,  \n",
    "                label_threshold=50)"
   ]
  },
  {
   "cell_type": "code",
   "execution_count": 23,
   "id": "8a2b1fd8-f99a-4da7-a383-d4c6ab20b0ba",
   "metadata": {},
   "outputs": [
    {
     "name": "stdout",
     "output_type": "stream",
     "text": [
      "median: 1.0\n"
     ]
    },
    {
     "data": {
      "text/html": [
       "<div>\n",
       "<style scoped>\n",
       "    .dataframe tbody tr th:only-of-type {\n",
       "        vertical-align: middle;\n",
       "    }\n",
       "\n",
       "    .dataframe tbody tr th {\n",
       "        vertical-align: top;\n",
       "    }\n",
       "\n",
       "    .dataframe thead th {\n",
       "        text-align: right;\n",
       "    }\n",
       "</style>\n",
       "<table border=\"1\" class=\"dataframe\">\n",
       "  <thead>\n",
       "    <tr style=\"text-align: right;\">\n",
       "      <th></th>\n",
       "      <th>Unnamed: 0</th>\n",
       "      <th>count</th>\n",
       "    </tr>\n",
       "  </thead>\n",
       "  <tbody>\n",
       "    <tr>\n",
       "      <th>count</th>\n",
       "      <td>160200.000000</td>\n",
       "      <td>160200.000000</td>\n",
       "    </tr>\n",
       "    <tr>\n",
       "      <th>mean</th>\n",
       "      <td>80099.500000</td>\n",
       "      <td>5.695911</td>\n",
       "    </tr>\n",
       "    <tr>\n",
       "      <th>std</th>\n",
       "      <td>46245.900899</td>\n",
       "      <td>30.103935</td>\n",
       "    </tr>\n",
       "    <tr>\n",
       "      <th>min</th>\n",
       "      <td>0.000000</td>\n",
       "      <td>1.000000</td>\n",
       "    </tr>\n",
       "    <tr>\n",
       "      <th>25%</th>\n",
       "      <td>40049.750000</td>\n",
       "      <td>1.000000</td>\n",
       "    </tr>\n",
       "    <tr>\n",
       "      <th>50%</th>\n",
       "      <td>80099.500000</td>\n",
       "      <td>1.000000</td>\n",
       "    </tr>\n",
       "    <tr>\n",
       "      <th>75%</th>\n",
       "      <td>120149.250000</td>\n",
       "      <td>3.000000</td>\n",
       "    </tr>\n",
       "    <tr>\n",
       "      <th>max</th>\n",
       "      <td>160199.000000</td>\n",
       "      <td>1817.000000</td>\n",
       "    </tr>\n",
       "  </tbody>\n",
       "</table>\n",
       "</div>"
      ],
      "text/plain": [
       "          Unnamed: 0          count\n",
       "count  160200.000000  160200.000000\n",
       "mean    80099.500000       5.695911\n",
       "std     46245.900899      30.103935\n",
       "min         0.000000       1.000000\n",
       "25%     40049.750000       1.000000\n",
       "50%     80099.500000       1.000000\n",
       "75%    120149.250000       3.000000\n",
       "max    160199.000000    1817.000000"
      ]
     },
     "execution_count": 23,
     "metadata": {},
     "output_type": "execute_result"
    }
   ],
   "source": [
    "print(\"median:\", edge_table[\"count\"].median())\n",
    "edge_table.describe()"
   ]
  },
  {
   "cell_type": "code",
   "execution_count": 24,
   "id": "7215daee-cd6a-4cea-b8ba-fb32a55e08de",
   "metadata": {},
   "outputs": [
    {
     "data": {
      "image/png": "[encoded data removed]",
      "text/plain": [
       "<Figure size 500x300 with 1 Axes>"
      ]
     },
     "metadata": {},
     "output_type": "display_data"
    }
   ],
   "source": [
    "plt.figure(figsize = (5, 3))\n",
    "plt.hist(edge_table[\"count\"], ec=\"white\")\n",
    "plt.yscale('log')\n",
    "# plt.title(f\"Histogram of skill cooccurrences\")\n",
    "plt.xlabel('Skill occurences')\n",
    "plt.ylabel('count')\n",
    "plt.tight_layout()\n",
    "plt.savefig(\"output/plots/histogramskilloccurences.png\")\n",
    "plt.show()\n"
   ]
  },
  {
   "cell_type": "markdown",
   "id": "e6ac0dc8-3878-48c9-8515-c22b3893d339",
   "metadata": {},
   "source": [
    "## Disparity Filter"
   ]
  },
  {
   "cell_type": "code",
   "execution_count": 58,
   "id": "fa108c65-d214-4377-81ef-633acb6107b4",
   "metadata": {},
   "outputs": [
    {
     "data": {
      "image/png": "[encoded data removed]",
      "text/plain": [
       "<Figure size 640x480 with 1 Axes>"
      ]
     },
     "metadata": {},
     "output_type": "display_data"
    }
   ],
   "source": [
    "nodes = random.sample(list(set(edge_table['node1'])), 200)\n",
    "edge_table_subgraph = edge_table[\n",
    "    (edge_table['node1'].isin(nodes)) & \n",
    "    (edge_table['node2'].isin(nodes))\n",
    "]\n",
    "visualise_graph(edge_table_subgraph, \n",
    "                node_size= 2, \n",
    "                labels = False,  \n",
    "                label_threshold=50)"
   ]
  },
  {
   "cell_type": "code",
   "execution_count": 59,
   "id": "3e74e9a0-b4cb-45bf-b4ac-9c355cd4613b",
   "metadata": {},
   "outputs": [
    {
     "name": "stderr",
     "output_type": "stream",
     "text": [
      "Calculating DF score...\n"
     ]
    },
    {
     "data": {
      "text/html": [
       "<div>\n",
       "<style scoped>\n",
       "    .dataframe tbody tr th:only-of-type {\n",
       "        vertical-align: middle;\n",
       "    }\n",
       "\n",
       "    .dataframe tbody tr th {\n",
       "        vertical-align: top;\n",
       "    }\n",
       "\n",
       "    .dataframe thead th {\n",
       "        text-align: right;\n",
       "    }\n",
       "</style>\n",
       "<table border=\"1\" class=\"dataframe\">\n",
       "  <thead>\n",
       "    <tr style=\"text-align: right;\">\n",
       "      <th></th>\n",
       "      <th>node1</th>\n",
       "      <th>node2</th>\n",
       "      <th>count</th>\n",
       "      <th>score</th>\n",
       "      <th>variance</th>\n",
       "      <th>sdev</th>\n",
       "    </tr>\n",
       "  </thead>\n",
       "  <tbody>\n",
       "    <tr>\n",
       "      <th>288</th>\n",
       "      <td>editing</td>\n",
       "      <td>social-media-content</td>\n",
       "      <td>5</td>\n",
       "      <td>0.0</td>\n",
       "      <td>0.0</td>\n",
       "      <td>0.0</td>\n",
       "    </tr>\n",
       "    <tr>\n",
       "      <th>229</th>\n",
       "      <td>timetracker</td>\n",
       "      <td>communication</td>\n",
       "      <td>1</td>\n",
       "      <td>0.0</td>\n",
       "      <td>0.0</td>\n",
       "      <td>0.0</td>\n",
       "    </tr>\n",
       "    <tr>\n",
       "      <th>213</th>\n",
       "      <td>end-user-technical-support</td>\n",
       "      <td>phone-support</td>\n",
       "      <td>1</td>\n",
       "      <td>0.0</td>\n",
       "      <td>0.0</td>\n",
       "      <td>0.0</td>\n",
       "    </tr>\n",
       "    <tr>\n",
       "      <th>209</th>\n",
       "      <td>security-testing</td>\n",
       "      <td>infromation-security-consultation</td>\n",
       "      <td>1</td>\n",
       "      <td>0.0</td>\n",
       "      <td>0.0</td>\n",
       "      <td>0.0</td>\n",
       "    </tr>\n",
       "    <tr>\n",
       "      <th>208</th>\n",
       "      <td>midi</td>\n",
       "      <td>machine-learning-model</td>\n",
       "      <td>1</td>\n",
       "      <td>0.0</td>\n",
       "      <td>0.0</td>\n",
       "      <td>0.0</td>\n",
       "    </tr>\n",
       "  </tbody>\n",
       "</table>\n",
       "</div>"
      ],
      "text/plain": [
       "                          node1                              node2  count  \\\n",
       "288                     editing               social-media-content      5   \n",
       "229                 timetracker                      communication      1   \n",
       "213  end-user-technical-support                      phone-support      1   \n",
       "209            security-testing  infromation-security-consultation      1   \n",
       "208                        midi             machine-learning-model      1   \n",
       "\n",
       "     score  variance  sdev  \n",
       "288    0.0       0.0   0.0  \n",
       "229    0.0       0.0   0.0  \n",
       "213    0.0       0.0   0.0  \n",
       "209    0.0       0.0   0.0  \n",
       "208    0.0       0.0   0.0  "
      ]
     },
     "execution_count": 59,
     "metadata": {},
     "output_type": "execute_result"
    }
   ],
   "source": [
    "edge_table_disp_filter = helpers.disparity_filter(edge_table_subgraph, undirected = True)\n",
    "edge_table_disp_filter.sort_values(by = \"score\", ascending = True).head(5)"
   ]
  },
  {
   "cell_type": "code",
   "execution_count": 60,
   "id": "c29b8603-f63f-405d-b4d7-386146ad8a7d",
   "metadata": {},
   "outputs": [
    {
     "name": "stdout",
     "output_type": "stream",
     "text": [
      "The DFed-table is of length 78\n"
     ]
    },
    {
     "data": {
      "text/html": [
       "<div>\n",
       "<style scoped>\n",
       "    .dataframe tbody tr th:only-of-type {\n",
       "        vertical-align: middle;\n",
       "    }\n",
       "\n",
       "    .dataframe tbody tr th {\n",
       "        vertical-align: top;\n",
       "    }\n",
       "\n",
       "    .dataframe thead th {\n",
       "        text-align: right;\n",
       "    }\n",
       "</style>\n",
       "<table border=\"1\" class=\"dataframe\">\n",
       "  <thead>\n",
       "    <tr style=\"text-align: right;\">\n",
       "      <th></th>\n",
       "      <th>node1</th>\n",
       "      <th>node2</th>\n",
       "      <th>count</th>\n",
       "      <th>score</th>\n",
       "    </tr>\n",
       "  </thead>\n",
       "  <tbody>\n",
       "    <tr>\n",
       "      <th>0</th>\n",
       "      <td>iad</td>\n",
       "      <td>large-1000+-employees</td>\n",
       "      <td>1</td>\n",
       "      <td>0.5</td>\n",
       "    </tr>\n",
       "    <tr>\n",
       "      <th>201</th>\n",
       "      <td>amazon-rds</td>\n",
       "      <td>database-programming</td>\n",
       "      <td>1</td>\n",
       "      <td>0.5</td>\n",
       "    </tr>\n",
       "    <tr>\n",
       "      <th>90</th>\n",
       "      <td>research-and-development</td>\n",
       "      <td>fact-checking</td>\n",
       "      <td>1</td>\n",
       "      <td>0.5</td>\n",
       "    </tr>\n",
       "    <tr>\n",
       "      <th>89</th>\n",
       "      <td>research-and-development</td>\n",
       "      <td>product-registration</td>\n",
       "      <td>1</td>\n",
       "      <td>0.5</td>\n",
       "    </tr>\n",
       "    <tr>\n",
       "      <th>202</th>\n",
       "      <td>amazon-rds</td>\n",
       "      <td>amazon-appstore</td>\n",
       "      <td>1</td>\n",
       "      <td>0.5</td>\n",
       "    </tr>\n",
       "  </tbody>\n",
       "</table>\n",
       "</div>"
      ],
      "text/plain": [
       "                        node1                  node2  count  score\n",
       "0                         iad  large-1000+-employees      1    0.5\n",
       "201                amazon-rds   database-programming      1    0.5\n",
       "90   research-and-development          fact-checking      1    0.5\n",
       "89   research-and-development   product-registration      1    0.5\n",
       "202                amazon-rds        amazon-appstore      1    0.5"
      ]
     },
     "execution_count": 60,
     "metadata": {},
     "output_type": "execute_result"
    }
   ],
   "source": [
    "edge_table_disp_filter_thresholded = helpers.thresholding(edge_table_disp_filter, 1.8)\n",
    "print(f\"The DFed-table is of length {len(edge_table_disp_filter_thresholded)}\")\n",
    "edge_table_disp_filter_thresholded.sort_values(by = \"score\", ascending = True).head(5)"
   ]
  },
  {
   "cell_type": "markdown",
   "id": "a6c148f5-edeb-453b-b4b4-36e15386300e",
   "metadata": {},
   "source": [
    "## Noise-corrected"
   ]
  },
  {
   "cell_type": "code",
   "execution_count": 61,
   "id": "44b6f531-7c69-4f67-a7f9-0316287d85ae",
   "metadata": {},
   "outputs": [
    {
     "name": "stderr",
     "output_type": "stream",
     "text": [
      "Calculating NC score...\n"
     ]
    },
    {
     "data": {
      "text/html": [
       "<div>\n",
       "<style scoped>\n",
       "    .dataframe tbody tr th:only-of-type {\n",
       "        vertical-align: middle;\n",
       "    }\n",
       "\n",
       "    .dataframe tbody tr th {\n",
       "        vertical-align: top;\n",
       "    }\n",
       "\n",
       "    .dataframe thead th {\n",
       "        text-align: right;\n",
       "    }\n",
       "</style>\n",
       "<table border=\"1\" class=\"dataframe\">\n",
       "  <thead>\n",
       "    <tr style=\"text-align: right;\">\n",
       "      <th></th>\n",
       "      <th>node1</th>\n",
       "      <th>node2</th>\n",
       "      <th>count</th>\n",
       "      <th>score</th>\n",
       "      <th>sdev</th>\n",
       "    </tr>\n",
       "  </thead>\n",
       "  <tbody>\n",
       "    <tr>\n",
       "      <th>99803</th>\n",
       "      <td>english-spelling</td>\n",
       "      <td>social-media-content</td>\n",
       "      <td>4</td>\n",
       "      <td>-0.761143</td>\n",
       "      <td>0.214707</td>\n",
       "    </tr>\n",
       "    <tr>\n",
       "      <th>14085</th>\n",
       "      <td>large-1000+-employees</td>\n",
       "      <td>social-media-content</td>\n",
       "      <td>1</td>\n",
       "      <td>-0.700542</td>\n",
       "      <td>0.464101</td>\n",
       "    </tr>\n",
       "    <tr>\n",
       "      <th>26736</th>\n",
       "      <td>seo-backlinks</td>\n",
       "      <td>social-media-content</td>\n",
       "      <td>6</td>\n",
       "      <td>-0.689175</td>\n",
       "      <td>0.187836</td>\n",
       "    </tr>\n",
       "    <tr>\n",
       "      <th>156822</th>\n",
       "      <td>communication</td>\n",
       "      <td>editing</td>\n",
       "      <td>1</td>\n",
       "      <td>-0.474025</td>\n",
       "      <td>0.514232</td>\n",
       "    </tr>\n",
       "    <tr>\n",
       "      <th>26774</th>\n",
       "      <td>seo-backlinks</td>\n",
       "      <td>twitter-ads-manager</td>\n",
       "      <td>2</td>\n",
       "      <td>-0.384777</td>\n",
       "      <td>0.363627</td>\n",
       "    </tr>\n",
       "  </tbody>\n",
       "</table>\n",
       "</div>"
      ],
      "text/plain": [
       "                        node1                 node2  count     score      sdev\n",
       "99803        english-spelling  social-media-content      4 -0.761143  0.214707\n",
       "14085   large-1000+-employees  social-media-content      1 -0.700542  0.464101\n",
       "26736           seo-backlinks  social-media-content      6 -0.689175  0.187836\n",
       "156822          communication               editing      1 -0.474025  0.514232\n",
       "26774           seo-backlinks   twitter-ads-manager      2 -0.384777  0.363627"
      ]
     },
     "execution_count": 61,
     "metadata": {},
     "output_type": "execute_result"
    }
   ],
   "source": [
    "edge_table_nc = helpers.noise_corrected(edge_table_subgraph, undirected = True, return_self_loops = False)\n",
    "edge_table_nc.sort_values(by = \"score\", ascending = True).head(5)"
   ]
  },
  {
   "cell_type": "code",
   "execution_count": 62,
   "id": "fa6a4d92-73e6-4a56-99c3-926b84ec17d3",
   "metadata": {},
   "outputs": [
    {
     "name": "stdout",
     "output_type": "stream",
     "text": [
      "The NC-table is of length 105\n"
     ]
    },
    {
     "data": {
      "text/html": [
       "<div>\n",
       "<style scoped>\n",
       "    .dataframe tbody tr th:only-of-type {\n",
       "        vertical-align: middle;\n",
       "    }\n",
       "\n",
       "    .dataframe tbody tr th {\n",
       "        vertical-align: top;\n",
       "    }\n",
       "\n",
       "    .dataframe thead th {\n",
       "        text-align: right;\n",
       "    }\n",
       "</style>\n",
       "<table border=\"1\" class=\"dataframe\">\n",
       "  <thead>\n",
       "    <tr style=\"text-align: right;\">\n",
       "      <th></th>\n",
       "      <th>node1</th>\n",
       "      <th>node2</th>\n",
       "      <th>count</th>\n",
       "      <th>score</th>\n",
       "    </tr>\n",
       "  </thead>\n",
       "  <tbody>\n",
       "    <tr>\n",
       "      <th>156828</th>\n",
       "      <td>communication</td>\n",
       "      <td>social-media-content</td>\n",
       "      <td>6</td>\n",
       "      <td>0.241760</td>\n",
       "    </tr>\n",
       "    <tr>\n",
       "      <th>128213</th>\n",
       "      <td>localisms</td>\n",
       "      <td>social-media-content</td>\n",
       "      <td>2</td>\n",
       "      <td>0.371777</td>\n",
       "    </tr>\n",
       "    <tr>\n",
       "      <th>6517</th>\n",
       "      <td>editing-and-proofreading</td>\n",
       "      <td>portuguese</td>\n",
       "      <td>1</td>\n",
       "      <td>0.425231</td>\n",
       "    </tr>\n",
       "    <tr>\n",
       "      <th>6603</th>\n",
       "      <td>editing-and-proofreading</td>\n",
       "      <td>social-media-content-creation</td>\n",
       "      <td>2</td>\n",
       "      <td>0.425231</td>\n",
       "    </tr>\n",
       "    <tr>\n",
       "      <th>14144</th>\n",
       "      <td>large-1000+-employees</td>\n",
       "      <td>twitter-ads-manager</td>\n",
       "      <td>2</td>\n",
       "      <td>0.436779</td>\n",
       "    </tr>\n",
       "  </tbody>\n",
       "</table>\n",
       "</div>"
      ],
      "text/plain": [
       "                           node1                          node2  count  \\\n",
       "156828             communication           social-media-content      6   \n",
       "128213                 localisms           social-media-content      2   \n",
       "6517    editing-and-proofreading                     portuguese      1   \n",
       "6603    editing-and-proofreading  social-media-content-creation      2   \n",
       "14144      large-1000+-employees            twitter-ads-manager      2   \n",
       "\n",
       "           score  \n",
       "156828  0.241760  \n",
       "128213  0.371777  \n",
       "6517    0.425231  \n",
       "6603    0.425231  \n",
       "14144   0.436779  "
      ]
     },
     "execution_count": 62,
     "metadata": {},
     "output_type": "execute_result"
    }
   ],
   "source": [
    "edge_table_nc_thresholded = helpers.thresholding(edge_table_nc, 1.8) #7, 10\n",
    "print(f\"The NC-table is of length {len(edge_table_nc_thresholded)}\")\n",
    "edge_table_nc_thresholded.sort_values(by = \"score\", ascending = True).head(5)"
   ]
  },
  {
   "cell_type": "markdown",
   "id": "4f27e90b-4c06-4610-a2d2-ee39fcae49f1",
   "metadata": {},
   "source": [
    "## Compare the resulting degree distribution between unfiltered, disparity filtered, and noise-corrected graphs"
   ]
  },
  {
   "cell_type": "code",
   "execution_count": 63,
   "id": "015ab304-9561-4069-972b-0ca927c41a45",
   "metadata": {},
   "outputs": [
    {
     "data": {
      "image/png": "[encoded data removed]",
      "text/plain": [
       "<Figure size 500x300 with 1 Axes>"
      ]
     },
     "metadata": {},
     "output_type": "display_data"
    }
   ],
   "source": [
    "# check degree distribution\n",
    "plt.figure(figsize = (5, 3))\n",
    "\n",
    "# DF graph\n",
    "G_disp_filter = nx.from_pandas_edgelist(edge_table_disp_filter_thresholded, \"node1\", \"node2\", edge_attr=True)\n",
    "degrees_disp_filter = list(dict(G_disp_filter.degree).values())\n",
    "# NC graph\n",
    "G_nc = nx.from_pandas_edgelist(edge_table_nc, \"node1\", \"node2\", edge_attr=True)\n",
    "degrees_nc = list(dict(G_nc.degree).values())\n",
    "# original graph\n",
    "G = nx.from_pandas_edgelist(edge_table_subgraph, \"node1\", \"node2\", edge_attr=True)\n",
    "degrees = list(dict(G.degree).values())\n",
    "\n",
    "plt.hist([degrees, degrees_disp_filter, degrees_nc], \n",
    "         bins = 15, \n",
    "         label=['unfiltered', 'disparity-filtered', 'noise-corrected'], \n",
    "         ec=\"white\", \n",
    "         color = [\"black\", \"firebrick\", 'cornflowerblue'])\n",
    "plt.legend(loc='upper right')\n",
    "plt.yscale('log')\n",
    "# plt.title(f\"\")\n",
    "plt.xlabel('degree')\n",
    "plt.ylabel('count')\n",
    "plt.tight_layout()\n",
    "plt.savefig('output/degree_distribution_prepostbackboning.png')\n",
    "plt.show()\n"
   ]
  },
  {
   "cell_type": "code",
   "execution_count": 64,
   "id": "08c9a6a5-3eec-453f-bb28-c4bd107e772a",
   "metadata": {},
   "outputs": [
    {
     "data": {
      "image/png": "[encoded data removed]",
      "text/plain": [
       "<Figure size 640x480 with 1 Axes>"
      ]
     },
     "metadata": {},
     "output_type": "display_data"
    },
    {
     "data": {
      "image/png": "[encoded data removed]",
      "text/plain": [
       "<Figure size 640x480 with 1 Axes>"
      ]
     },
     "metadata": {},
     "output_type": "display_data"
    }
   ],
   "source": [
    "visualise_graph(edge_table_disp_filter_thresholded, \n",
    "                node_size= 2, \n",
    "                labels = False,  \n",
    "                label_threshold=50)\n",
    "visualise_graph(edge_table_nc, \n",
    "                node_size= 2, \n",
    "                labels = False,  \n",
    "                label_threshold=50)"
   ]
  },
  {
   "cell_type": "code",
   "execution_count": 57,
   "id": "d3b5b139-f720-4c4d-a25a-4ad2685fbb84",
   "metadata": {},
   "outputs": [],
   "source": [
    "edge_table_disp_filter_thresholded.to_csv('output/edge_table_disp_filter_thresholded.csv')\n",
    "edge_table_nc_thresholded.to_csv('output/edge_table_nc_thresholded.csv')"
   ]
  }
 ],
 "metadata": {
  "kernelspec": {
   "display_name": "Python 3 (ipykernel)",
   "language": "python",
   "name": "python3"
  },
  "language_info": {
   "codemirror_mode": {
    "name": "ipython",
    "version": 3
   },
   "file_extension": ".py",
   "mimetype": "text/x-python",
   "name": "python",
   "nbconvert_exporter": "python",
   "pygments_lexer": "ipython3",
   "version": "3.11.8"
  }
 },
 "nbformat": 4,
 "nbformat_minor": 5
}
